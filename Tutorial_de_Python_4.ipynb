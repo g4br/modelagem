{
  "nbformat": 4,
  "nbformat_minor": 0,
  "metadata": {
    "colab": {
      "name": "Tutorial_de_Python_4.ipynb",
      "private_outputs": true,
      "provenance": [],
      "include_colab_link": true
    },
    "kernelspec": {
      "name": "python3",
      "display_name": "Python 3"
    },
    "language_info": {
      "name": "python"
    }
  },
  "cells": [
    {
      "cell_type": "markdown",
      "metadata": {
        "id": "view-in-github",
        "colab_type": "text"
      },
      "source": [
        "<a href=\"https://colab.research.google.com/github/g4br/modelagem/blob/main/Tutorial_de_Python_4.ipynb\" target=\"_parent\"><img src=\"https://colab.research.google.com/assets/colab-badge.svg\" alt=\"Open In Colab\"/></a>"
      ]
    },
    {
      "cell_type": "markdown",
      "metadata": {
        "id": "L9dKYrgL0K_I"
      },
      "source": [
        "## <center>Introdução à Lógica de Programação</center>\n",
        "\n",
        "---\n",
        "## <center>Aula 4. Comando for e range</center>\n",
        "\n",
        "##### <center> Prof  Reinaldo Haas</center>\n"
      ]
    },
    {
      "cell_type": "markdown",
      "metadata": {
        "id": "IPRnz43q0LrN"
      },
      "source": [
        "### Comandos for\n",
        "##O comando for em Python é um pouco diferente do que costuma ser em C ou Pascal. Ao invés de sempre iterar sobre uma progressão aritmética de números (como no Pascal), ou permitir ao usuário definir o passo de iteração e a condição de parada (como C), o comando for do Python itera sobre os itens de \n",
        "qualquer sequência (seja uma lista ou uma string), na ordem que aparecem na sequência. \n",
        "## Por exemplo:"
      ]
    },
    {
      "cell_type": "code",
      "metadata": {
        "id": "bKmVoFhT1IVO"
      },
      "source": [
        "words = ['cat', 'window', 'defenestrate']\n",
        "for w in words:\n",
        "       print(w, len(w))\n"
      ],
      "execution_count": null,
      "outputs": []
    },
    {
      "cell_type": "markdown",
      "metadata": {
        "id": "2AwAWb9_11jE"
      },
      "source": [
        "A função range()\n",
        "Se você precisa iterar sobre sequências numéricas, a função embutida range() é a resposta. Ela gera progressões aritméticas:\n"
      ]
    },
    {
      "cell_type": "code",
      "metadata": {
        "id": "LfYi9mhS1kqV"
      },
      "source": [
        "for i in range(5):\n",
        "     print(i)\n",
        "\n"
      ],
      "execution_count": null,
      "outputs": []
    },
    {
      "cell_type": "markdown",
      "metadata": {
        "id": "hsc3O_Qp2rmo"
      },
      "source": [
        "### O ponto de parada fornecido nunca é incluído na lista; range(10) gera uma lista com 10 valores, exatamente os índices válidos para uma sequência de comprimento 10. É possível iniciar o intervalo com outro número, ou alterar a razão da progressão (inclusive com passo negativo):"
      ]
    },
    {
      "cell_type": "code",
      "metadata": {
        "id": "4BBtmSri2CU8"
      },
      "source": [
        "for i in range(5, 10):\n",
        "  print(i)"
      ],
      "execution_count": null,
      "outputs": []
    },
    {
      "cell_type": "code",
      "metadata": {
        "id": "fGrog2o02y10"
      },
      "source": [
        "for i in range(0, 10,2):\n",
        "  print(i)"
      ],
      "execution_count": null,
      "outputs": []
    },
    {
      "cell_type": "code",
      "metadata": {
        "id": "CT4zrRwP3Ky2"
      },
      "source": [
        "for i in range(-10, -100,-30):\n",
        "  print(i)"
      ],
      "execution_count": null,
      "outputs": []
    },
    {
      "cell_type": "markdown",
      "metadata": {
        "id": "47pmfRm73V7d"
      },
      "source": [
        "### Para iterar sobre os índices de uma sequência, combine range() e len() da seguinte forma:"
      ]
    },
    {
      "cell_type": "code",
      "metadata": {
        "id": "EESVBYNJ3F5v"
      },
      "source": [
        "a = ['Mary', 'had', 'a', 'little', 'lamb']\n",
        "for i in range(len(a)):\n",
        "     print(i, a[i])"
      ],
      "execution_count": null,
      "outputs": []
    },
    {
      "cell_type": "markdown",
      "metadata": {
        "id": "8N_-IXaz3nu1"
      },
      "source": [
        "### Comandos break e continue, e cláusula else, nos laços de repetição\n",
        "----\n",
        "## O comando break, como no C, sai imediatamente do laço de repetição mais interno, seja for ou while.\n",
        "\n",
        "##Laços podem ter uma cláusula else, que é executada sempre que o laço se encerra por exaustão do iterável (no caso do for) ou quando a condição se torna falsa (no caso do while), mas nunca quando o laço é interrompido por um break. Isto é exemplificado no próximo exemplo que procura números primos:"
      ]
    },
    {
      "cell_type": "code",
      "metadata": {
        "id": "GbTrxfKr3cYA"
      },
      "source": [
        "for n in range(2, 10):\n",
        "  for x in range(2, n):\n",
        "     if n % x == 0:\n",
        "         print(n, 'equals', x, '*', n//x)\n",
        "         break\n",
        "  else:\n",
        "         # loop fell through without finding a factor\n",
        "         print(n, 'is a prime number')"
      ],
      "execution_count": null,
      "outputs": []
    },
    {
      "cell_type": "markdown",
      "metadata": {
        "id": "nH9araN84l31"
      },
      "source": [
        "### (Sim, o código está correto. Olhe atentamente: a cláusula else pertence ao laço for, e não ao comando if.)\n",
        "\n",
        "## Quando usado em um laço, a cláusula else tem mais em comum com a cláusula else de um comando try do que com a de um comando if: a cláusula else de um comando try executa quando não ocorre exceção, e o else de um laço executa quando não ocorre um break. Para mais informações sobre comando try e exceções, veja Tratamento de exceções.\n",
        "\n",
        "## A instrução continue, também emprestada da linguagem C, continua com a próxima iteração do laço:"
      ]
    },
    {
      "cell_type": "code",
      "metadata": {
        "id": "oKVR9Hhx4H66"
      },
      "source": [
        ""
      ],
      "execution_count": null,
      "outputs": []
    }
  ]
}