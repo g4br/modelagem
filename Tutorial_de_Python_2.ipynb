{
  "nbformat": 4,
  "nbformat_minor": 0,
  "metadata": {
    "kernelspec": {
      "display_name": "Python [default]",
      "language": "python",
      "name": "python3"
    },
    "language_info": {
      "codemirror_mode": {
        "name": "ipython",
        "version": 3
      },
      "file_extension": ".py",
      "mimetype": "text/x-python",
      "name": "python",
      "nbconvert_exporter": "python",
      "pygments_lexer": "ipython3",
      "version": "3.6.6"
    },
    "colab": {
      "name": "Tutorial_de_Python_2.ipynb",
      "provenance": [],
      "include_colab_link": true
    }
  },
  "cells": [
    {
      "cell_type": "markdown",
      "metadata": {
        "id": "view-in-github",
        "colab_type": "text"
      },
      "source": [
        "<a href=\"https://colab.research.google.com/github/g4br/modelagem/blob/main/Tutorial_de_Python_2.ipynb\" target=\"_parent\"><img src=\"https://colab.research.google.com/assets/colab-badge.svg\" alt=\"Open In Colab\"/></a>"
      ]
    },
    {
      "cell_type": "markdown",
      "metadata": {
        "id": "K7-ysQ2YMijY"
      },
      "source": [
        "## <center>Introdução à Lógica de Programação</center>\n",
        "###  <center>Um curso prático para estudantes das Ciências da Vida</center>\n",
        "---\n",
        "## <center>Aula 2. Funções</center>\n",
        "##### <center>Instrutor: <a href=\"https://pedrosiracusa.github.io\" target=\"_blank\">Pedro C. de Siracusa</a></center>\n",
        "###  <center>Adaptação por Prof Reinaldo Haas Funções</center>"
      ]
    },
    {
      "cell_type": "markdown",
      "metadata": {
        "id": "FQFEHEQTMijb"
      },
      "source": [
        "Funções são como liquidificadores! Inserimos bananas e um copo de leite, ajustamos alguns parâmetros como o tempo de processamento e por fim recebemos uma deliciosa vitamina! E o melhor é que não precisamos entender os mínimos detalhes sobre como os mecanismos internos do aparelho funcionam para fazer nossa vitamina. Tampouco precisamos ter construído o liquidificador para poder saboreá-la. Além disso, qualquer que fosse o liquidificador, esperaríamos obter algo não muito diferente de uma vitamina, desde que utilizássemos os mesmos ingredientes e regulagens.\n",
        "\n",
        "<img src=\"https://github.com/pedrosiracusa/curso_intro_prog_biol/blob/master/aulas/img/blender_functions.png?raw=1\">"
      ]
    },
    {
      "cell_type": "markdown",
      "metadata": {
        "id": "JztVZUqGMijb"
      },
      "source": [
        "Agora de forma mais sofisticada, funções são construções que **encapsulam** um determinado comportamento que se espera executar múltiplas vezes durante a execução de um programa. São rotinas, que podem ter sido definidas pelo próprio programador ou por outros programadores. No caso do liquidificador, a rotina foi definida pelo próprio fabricante. O usuário só precisa saber o que precisa saber como operá-lo: que tipos de coisas deve fornecer como **entrada** (*input*) e o que deve esperar receber como **saída** (*output*).\n",
        "\n",
        "<img src=\"https://github.com/pedrosiracusa/curso_intro_prog_biol/blob/master/aulas/img/functions.png?raw=1\">"
      ]
    },
    {
      "cell_type": "markdown",
      "metadata": {
        "id": "r3mdpPWTMijc"
      },
      "source": [
        "Funções facilitam sua vida por dois motivos principais. \n",
        "\n",
        "1. Permitem ao programador **abstrair** computações, sem precisar se preocupar a todo momento sobre os mínimos detalhes de como elas são de fato realizadas. Imagine se você tivesse que se preocupar com os detalhes sobre como um texto é imprimido na tela de seu computador toda vez que você precisasse desta funcionalidade... Felizmente a função `print`, que utilizamos no nosso programa \"Hello World\", permite que esta rotina seja abstraída para você, o que facilita bastante seu aprendizado! \n",
        "\n",
        "2. Permitem **compartilhar** e **reutilizar** código. Se você construir uma função que possa ajudar outras pessoas também, por que não compartilhar? Isso acontece bastante na comunidade de programadores, e os ajuda a não ficar \"reinventando a roda\" quando precisam de alguma funcionalidade que já foi implementada por alguém. "
      ]
    },
    {
      "cell_type": "markdown",
      "metadata": {
        "id": "yHUBZWgyMijc"
      },
      "source": [
        "Para começar a entender como trabalhar com funções, precisamos conhecer seus três componentes principais: *(i)* **nome**, *(ii)* **parâmetros** e *(iii)* **corpo**.\n",
        "\n",
        "Dar um **nome** às funções é uma forma simples de mantermos uma referência a elas. Embora possamos nomear funções conforme nossa vontade, é recomendável escolhermos nomes que nos digam algo sobre seu funcionamento. É fácil lembrar que a função `print`, por exemplo, serve para imprimir algo na tela.\n",
        "\n",
        "Os **parâmetros** fornecem um meio para \"afinarmos\" o comportamento de uma função para nossas necessidades. Por exemplo, no caso do liquidificador, alguns parâmetros relevantes seriam o tempo de processamento, ou a velocidade de rotação do motor. Os dados de entrada (*inputs*) são também passados para as funções através de parâmetros. No jargão da programação, nos referimos aos valores que passamos no lugar de cada um dos parâmetros como **argumentos**. Pense em um parâmetro como um *placeholder* para um valor, enquanto o argumento é o valor em si, passado para dentro da função através de um parâmetro.\n",
        "\n",
        "Por fim, no **corpo** da função especificamos todas as etapas que devem ser realizadas por ela. Estas etapas incluem o processamento dos dados de entrada (*inputs*) e a construção do resultado que ela produzirá como saída (*output*). No fim das contas, a ideia é que as computações descritas no corpo da função sejam abstraídas para o usuário da função."
      ]
    },
    {
      "cell_type": "markdown",
      "metadata": {
        "id": "c57No5fSMijd"
      },
      "source": [
        "### Objetivos.\n",
        "\n",
        "Após esta aula você deverá ser capaz de:\n",
        "* **Definir** e **executar** funções;\n",
        "* Delimitar o **escopo** de uma função;\n",
        "* Reutilizar funcionalidades distribuídas em **pacotes** pela comunidade *Python*."
      ]
    },
    {
      "cell_type": "markdown",
      "metadata": {
        "id": "sU3uxLGCMijd"
      },
      "source": [
        "## 1. Definindo uma nova função"
      ]
    },
    {
      "cell_type": "markdown",
      "metadata": {
        "id": "7bTg1DnCMije"
      },
      "source": [
        "Para definir uma nova função precisamos obedecer à seguinte sintaxe:\n",
        "* a palavra `def` indica que uma nova função está sendo definida;\n",
        "* após `def`, deve ser escrito o **nome** da função;\n",
        "* após o nome da função, entre parênteses, os **parâmetros** são separados por vírgulas;\n",
        "* Os dois pontos `:` após os parênteses indica que o **corpo** da função vem a seguir, no bloco de código abaixo;\n",
        "* O bloco de código deve ser escrito com uma **indentação**, o distanciamento em relação à margem esquerda da célula;\n",
        "* No fim do corpo da função, o valor de saída (*output*) é indicado após a palavra `return`."
      ]
    },
    {
      "cell_type": "markdown",
      "metadata": {
        "id": "gMVsmNhZMije"
      },
      "source": [
        "Para ilustrar, vamos construir uma nova função, batizada com o nome `foo` (poderia ser qualquer outro nome, tipo `dinossauro`). Ela simplesmente deve imprimir no console os valores que passamos em cada um dos parâmetros e, no fim, retornar como *output* o valor $1$."
      ]
    },
    {
      "cell_type": "code",
      "metadata": {
        "id": "VJpQ7ahTMijf"
      },
      "source": [
        "def foo(in1,in2):\n",
        "  print('input_1= ',in1, 'input_2= ', in2)\n",
        "  return 1"
      ],
      "execution_count": 2,
      "outputs": []
    },
    {
      "cell_type": "markdown",
      "metadata": {
        "id": "7IHEJ3JOMijf"
      },
      "source": [
        "Uma vez definida, a função fica guardada na memória, mas não é automaticamente executada. Para de fato executá-la, precisamos **chamá-la**, escrevendo seu nome e passando argumentos no lugar dos parâmetros, entre parênteses."
      ]
    },
    {
      "cell_type": "code",
      "metadata": {
        "colab": {
          "base_uri": "https://localhost:8080/"
        },
        "id": "X-JUMSxsMijg",
        "outputId": "6c4ada32-31b2-4370-b59c-c3af6a1eaa62"
      },
      "source": [
        "foo(2,3)"
      ],
      "execution_count": 3,
      "outputs": [
        {
          "output_type": "stream",
          "name": "stdout",
          "text": [
            "input_1=  2 input_2=  3\n"
          ]
        },
        {
          "output_type": "execute_result",
          "data": {
            "text/plain": [
              "1"
            ]
          },
          "metadata": {},
          "execution_count": 3
        }
      ]
    },
    {
      "cell_type": "markdown",
      "metadata": {
        "id": "mtVWO78OMijg"
      },
      "source": [
        "Vamos definir agora uma função chamada `funcaoSoma`, que simplesmente soma dois números e retorna o resultado. Ela possui os parâmetros `n1` e `n2`, que esperam receber como valores (ou argumentos) dois valores numéricos. "
      ]
    },
    {
      "cell_type": "code",
      "metadata": {
        "id": "unAm5S2uMijg"
      },
      "source": [
        "def funcaoSoma(n1,n2):\n",
        "  return n1+n2\n",
        "  "
      ],
      "execution_count": 4,
      "outputs": []
    },
    {
      "cell_type": "code",
      "metadata": {
        "colab": {
          "base_uri": "https://localhost:8080/"
        },
        "id": "cD2xRuzLS6b7",
        "outputId": "062e7a6c-5eed-43cb-c0c9-1929fbc57ae1"
      },
      "source": [
        "funcaoSoma(1,2)"
      ],
      "execution_count": 5,
      "outputs": [
        {
          "output_type": "execute_result",
          "data": {
            "text/plain": [
              "3"
            ]
          },
          "metadata": {},
          "execution_count": 5
        }
      ]
    },
    {
      "cell_type": "markdown",
      "metadata": {
        "id": "K1EEuqWbMiji"
      },
      "source": [
        "O segredo para um bom desempenho como programador é jamais reinventar a roda! Sempre que possível, devemos buscar reutilizar código que já foi escrito por outros programadores. \n",
        "**Pacotes** são uma forma eficiente usada pelos programadores para estruturar e compartilhar seu código com a comunidade, sendo criados com o intuito de entregar aos usuários um conjunto de funcionalidades. \n",
        "O código dentro de um pacote é organizado em **módulos**, cada qual contendo um conjunto de funções e variáveis que implementam funcionalidades mais específicas.\n",
        "\n",
        "<img src=\"https://github.com/pedrosiracusa/curso_intro_prog_biol/blob/master/aulas/img/package_module.jpg?raw=1\">"
      ]
    },
    {
      "cell_type": "markdown",
      "metadata": {
        "id": "V8QfCqAyMiji"
      },
      "source": [
        "Veja uma lista de pacotes potencialmente interessantes \n",
        "* [Numpy](http://www.numpy.org/) para computação científica, com representações e operações otimizadas sobre objetos matemáticos;\n",
        "* [Pandas](http://pandas.pydata.org/) para representação de *Data frames* e análise de dados;\n",
        "* [Matplotlib](https://matplotlib.org/) para construção de figuras (visualização de dados);\n",
        "* [Statsmodels](http://www.statsmodels.org/stable/index.html) para trabalhar com modelos estatísticos;\n",
        "* [ScikitLearn](http://scikit-learn.org/stable/) para trabalhar com algoritmos de aprendizado de máquina;\n",
        "* [Networkx](https://networkx.github.io/) para construir modelos em redes complexas;\n",
        "* [ArcPy](http://desktop.arcgis.com/en/arcmap/10.3/analyze/arcpy/what-is-arcpy-.htm) é um pacote para automação de tarefas de análise e geração de mapas em ArcGis;\n",
        "* [Cartopy ](https://scitools.org.uk/cartopy/docs/v0.15/matplotlib/intro.html) (substituição do Basemap)é um conjunto de ferramentas para plotar mapas em python, utilizando como base a *Matplotlib*;"
      ]
    },
    {
      "cell_type": "markdown",
      "metadata": {
        "id": "E81KABTOMijj"
      },
      "source": [
        "Em *Python*, existem algumas funções que são carregadas com a inicialização do interpretador, por serem utilizadas de forma mais ampla pelos programadores. Alguns exemplos são as funções `print`, `type`, `range` e `open`. \n",
        "Outras, no entanto, são mais específicas e portanto não são carregadas automaticamente.\n",
        "Usamos a palavra `import` para carregar um pacote ou módulo."
      ]
    },
    {
      "cell_type": "markdown",
      "metadata": {
        "id": "r7-EMp4CMijj"
      },
      "source": [
        "O módulo `math`, por exemplo, reúne um conjunto de funções e constantes que facilitam muito trabalhar com elementos da matemática. Estas funções não são carregadas automaticamente, e portanto devemos **importar o módulo** para utilizá-las.\n",
        "Vamos carregar o módulo `math` e, em seguida, executar a função `factorial` provida por ele. Conforme podemos consultar na documentação, esta função espera um número como *input* e retorna seu fatorial, como *output*."
      ]
    },
    {
      "cell_type": "code",
      "metadata": {
        "colab": {
          "base_uri": "https://localhost:8080/"
        },
        "id": "oHF7GTCAMijj",
        "outputId": "b740231a-e1aa-430e-f343-02aa63f6b277"
      },
      "source": [
        "import math as m\n",
        "m.factorial(70)"
      ],
      "execution_count": 6,
      "outputs": [
        {
          "output_type": "execute_result",
          "data": {
            "text/plain": [
              "11978571669969891796072783721689098736458938142546425857555362864628009582789845319680000000000000000"
            ]
          },
          "metadata": {},
          "execution_count": 6
        }
      ]
    },
    {
      "cell_type": "markdown",
      "metadata": {
        "id": "g2xgbfXuMijj"
      },
      "source": [
        "---"
      ]
    },
    {
      "cell_type": "markdown",
      "metadata": {
        "id": "0-ECV7l5Mijk"
      },
      "source": [
        "## Exercícios"
      ]
    },
    {
      "cell_type": "markdown",
      "metadata": {
        "id": "aLdrn0ZbMijk"
      },
      "source": [
        "**Ex 1.** Defina uma função `calculaMedia`, que calcula a média entre **três** números quaisquer. Em seguida, execute sua função com valores diferentes. O que acontece se você definir a função com três parâmetros mas passar um número diferente de argumentos?"
      ]
    },
    {
      "cell_type": "code",
      "metadata": {
        "id": "0U_2n_s2Mijk"
      },
      "source": [
        ""
      ],
      "execution_count": 6,
      "outputs": []
    },
    {
      "cell_type": "markdown",
      "metadata": {
        "id": "VJD8Af7DMijk"
      },
      "source": [
        "**Ex 2.** Defina uma função `multiplica`, que multiplica dois números quaisquer. Em seguida, declare as variáveis `a`, `b` e `c` com quaisquer valores numéricos. Multiplique `a` e `b` utilizando a função `multiplica` e, em seguida, execute novamente a função `multiplica` para multiplicar o resultado do passo anterior pelo número em `c`."
      ]
    },
    {
      "cell_type": "code",
      "metadata": {
        "id": "BfrUks9DMijk"
      },
      "source": [
        ""
      ],
      "execution_count": 6,
      "outputs": []
    },
    {
      "cell_type": "markdown",
      "metadata": {
        "id": "nvFTFEysMijk"
      },
      "source": [
        "**Ex 3.** A função `exponencia` abaixo deve realizar uma exponenciação do número `n1` à potência `n2`. Mas ao executar a célula para definir a função recebemos uma mensagem de erro. Corrija o código e experimente executar a função com alguns pares de números."
      ]
    },
    {
      "cell_type": "code",
      "metadata": {
        "colab": {
          "base_uri": "https://localhost:8080/",
          "height": 132
        },
        "id": "-T8Wk6iCMijl",
        "outputId": "88fd4ba6-d15f-4bc9-b005-8cedc4558c81"
      },
      "source": [
        "def exponencia(n1,n2)\n",
        "return n1**n2"
      ],
      "execution_count": 7,
      "outputs": [
        {
          "output_type": "error",
          "ename": "SyntaxError",
          "evalue": "ignored",
          "traceback": [
            "\u001b[0;36m  File \u001b[0;32m\"<ipython-input-7-1991930330db>\"\u001b[0;36m, line \u001b[0;32m1\u001b[0m\n\u001b[0;31m    def exponencia(n1,n2)\u001b[0m\n\u001b[0m                         ^\u001b[0m\n\u001b[0;31mSyntaxError\u001b[0m\u001b[0;31m:\u001b[0m invalid syntax\n"
          ]
        }
      ]
    },
    {
      "cell_type": "code",
      "source": [
        "def exponencia(n1,n2):\n",
        "  return n1**n2"
      ],
      "metadata": {
        "id": "qpI2B1UYP9v_"
      },
      "execution_count": 8,
      "outputs": []
    },
    {
      "cell_type": "markdown",
      "metadata": {
        "id": "QcuW4OVhMijl"
      },
      "source": [
        "**Ex 4.** A função `mensagemMeuNome` abaixo deveria receber como argumento o seu nome, imprimir uma mensagem com ele e, por fim, retornar o seu nome como *output*. No entanto, existe um *bug*. Você consegue identificá-lo e corrigí-lo? "
      ]
    },
    {
      "cell_type": "code",
      "metadata": {
        "id": "D2-7nX6NMijm",
        "outputId": "6485a19f-a060-457c-90f5-986c441b878d",
        "colab": {
          "base_uri": "https://localhost:8080/",
          "height": 54
        }
      },
      "source": [
        "nome = \"Luke Skywalker\"\n",
        "\n",
        "def mensagemMeuNome( meuNome ):\n",
        "    print(\"Olá! Me chamo\", nome)\n",
        "    return meuNome\n",
        "\n",
        "mensagemMeuNome(\"\") # insira seu nome entre parênteses"
      ],
      "execution_count": 9,
      "outputs": [
        {
          "output_type": "stream",
          "name": "stdout",
          "text": [
            "Olá! Me chamo Luke Skywalker\n"
          ]
        },
        {
          "output_type": "execute_result",
          "data": {
            "text/plain": [
              "''"
            ],
            "application/vnd.google.colaboratory.intrinsic+json": {
              "type": "string"
            }
          },
          "metadata": {},
          "execution_count": 9
        }
      ]
    },
    {
      "cell_type": "markdown",
      "metadata": {
        "id": "TpGbmHf4Mijm"
      },
      "source": [
        "**Ex 5.** A função `type` é automaticamente carregada com a inicialização do interpretador *Python*. Você consegue descobrir o que ela faz? Experimente passar diferentes tipos de dados."
      ]
    },
    {
      "cell_type": "code",
      "metadata": {
        "id": "kYkI9dytMijm",
        "outputId": "639852dc-f127-4e6f-bae3-1814e3a4d5fe",
        "colab": {
          "base_uri": "https://localhost:8080/"
        }
      },
      "source": [
        "type(\"ABC\")"
      ],
      "execution_count": 10,
      "outputs": [
        {
          "output_type": "execute_result",
          "data": {
            "text/plain": [
              "str"
            ]
          },
          "metadata": {},
          "execution_count": 10
        }
      ]
    },
    {
      "cell_type": "code",
      "source": [
        "type(5)"
      ],
      "metadata": {
        "id": "t4LKIkLWQRci",
        "outputId": "84fbac0f-8c43-4077-896f-b67152f7cfeb",
        "colab": {
          "base_uri": "https://localhost:8080/"
        }
      },
      "execution_count": 11,
      "outputs": [
        {
          "output_type": "execute_result",
          "data": {
            "text/plain": [
              "int"
            ]
          },
          "metadata": {},
          "execution_count": 11
        }
      ]
    },
    {
      "cell_type": "code",
      "source": [
        "type(7.8)"
      ],
      "metadata": {
        "id": "Gb0s-CEqQSu5",
        "outputId": "2013ab36-b40d-47e4-eb29-694a80c64bb4",
        "colab": {
          "base_uri": "https://localhost:8080/"
        }
      },
      "execution_count": 12,
      "outputs": [
        {
          "output_type": "execute_result",
          "data": {
            "text/plain": [
              "float"
            ]
          },
          "metadata": {},
          "execution_count": 12
        }
      ]
    },
    {
      "cell_type": "code",
      "source": [
        "type(True)"
      ],
      "metadata": {
        "id": "AfIiWXMCQU01",
        "outputId": "aef47704-ac28-40bd-c775-8ee27b905c41",
        "colab": {
          "base_uri": "https://localhost:8080/"
        }
      },
      "execution_count": 13,
      "outputs": [
        {
          "output_type": "execute_result",
          "data": {
            "text/plain": [
              "bool"
            ]
          },
          "metadata": {},
          "execution_count": 13
        }
      ]
    },
    {
      "cell_type": "code",
      "source": [
        "type(mensagemMeuNome)"
      ],
      "metadata": {
        "id": "Gt1j88F9QWE3",
        "outputId": "b3dd8db3-1c5b-4543-8a0b-48d22d1612f1",
        "colab": {
          "base_uri": "https://localhost:8080/"
        }
      },
      "execution_count": 14,
      "outputs": [
        {
          "output_type": "execute_result",
          "data": {
            "text/plain": [
              "function"
            ]
          },
          "metadata": {},
          "execution_count": 14
        }
      ]
    },
    {
      "cell_type": "code",
      "source": [
        ""
      ],
      "metadata": {
        "id": "8PBFT1SIQZWl"
      },
      "execution_count": null,
      "outputs": []
    }
  ]
}