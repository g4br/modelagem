{
  "nbformat": 4,
  "nbformat_minor": 0,
  "metadata": {
    "kernelspec": {
      "display_name": "Python 3",
      "language": "python",
      "name": "python3"
    },
    "language_info": {
      "codemirror_mode": {
        "name": "ipython",
        "version": 3
      },
      "file_extension": ".py",
      "mimetype": "text/x-python",
      "name": "python",
      "nbconvert_exporter": "python",
      "pygments_lexer": "ipython3",
      "version": "3.6.5"
    },
    "colab": {
      "name": "Tutorial_de_Python_1.ipynb",
      "provenance": [],
      "include_colab_link": true
    }
  },
  "cells": [
    {
      "cell_type": "markdown",
      "metadata": {
        "id": "view-in-github",
        "colab_type": "text"
      },
      "source": [
        "<a href=\"https://colab.research.google.com/github/g4br/modelagem/blob/main/Tutorial_de_Python_1.ipynb\" target=\"_parent\"><img src=\"https://colab.research.google.com/assets/colab-badge.svg\" alt=\"Open In Colab\"/></a>"
      ]
    },
    {
      "cell_type": "markdown",
      "metadata": {
        "id": "hTTPv7k-MXxS"
      },
      "source": [
        "## <center>Introdução à Lógica de Programação</center>\n",
        "###  <center>Um curso prático para estudantes das Ciências da Vida</center>\n",
        "---\n",
        "## <center>Aula 1. Primeiros Passos</center>\n",
        "##### <center>Instrutor: <a href=\"https://pedrosiracusa.github.io\" target=\"_blank\">Pedro C. de Siracusa</a></center>\n",
        "##### <center> Adaptado por Reinaldo Haas</center>"
      ]
    },
    {
      "cell_type": "markdown",
      "metadata": {
        "id": "onJu9DTMMXxU"
      },
      "source": [
        "## O que é programar?\n",
        "\n",
        "Programar é como brincar com *LEGO*. Seguindo esta analogia, o trabalho do **programador** é construir estruturas complexas (como um castelo) encaixando blocos. \n",
        "Ele projeta as funcionalidades que deseja criar e planeja um passo-a-passo para chegar ate elas, partindo do pressuposto de que um conjunto de blocos fundamentais já estarão disponíveis para ele. \n",
        "O conjunto de blocos fundamentais disponíveis para o programador é o que constituiria uma **linguagem de programação**. Em termos gerais ela reúne conjuntos de regras e estruturas que permitem que o programador expresse suas ideias na forma de **código**. Escrever código seria como encaixar blocos. Sendo assim, o programador não precisa se preocupar em construir os blocos do zero antes de começar a trabalhar.\n",
        "\n",
        "<img src=\"https://github.com/pedrosiracusa/curso_intro_prog_biol/blob/verao_lncc_2019/aulas/img/lego_programming.png?raw=1\" >"
      ]
    },
    {
      "cell_type": "markdown",
      "metadata": {
        "id": "9vmrzqjfMXxV"
      },
      "source": [
        "Neste curso você trabalhará com a linguagem [*Python*](https://www.python.org/), uma linguagem de **propósito geral** que oferece **alto nível** de abstração. Isso faz de *Python* uma excelente primeira linguagem a ser aprendida, pois *(i)* você poderá aplicar seus novos conhecimentos em programação a vários projetos e contextos diferentes; e *(ii)* você trabalhará projetando suas ideias, sem ter que se preocupar com os mínimos detalhes sobre como seu código funciona.\n",
        "\n",
        "Um componente fundamental da linguagem *Python* que nos permite **executar** o código que escrevemos é o **interpretador**.\n",
        "No fundo, o interpretador é um programa que executa programas! Ele lê as instruções que escrevemos na forma de código e as executa logo em seguida, sem antes precisar traduzi-lo para código de máquina. Quer ver um exemplo?\n",
        "\n",
        "Vamos começar construindo o [programa \"Hello World\"](https://www.wikiwand.com/en/%22Hello,_World!%22_program), uma tradição bem conhecida entre os programadores quando estão aprendendo uma linguagem nova.\n",
        "Este pequeno programa é encarado como um primeiro teste, e simplesmente imprime uma mensagem com o texto *\"Hello World\"* no console.\n",
        "Escrever o programa \"Hello World em *Python* é realmente muito simples. Veja na célula abaixo."
      ]
    },
    {
      "cell_type": "code",
      "metadata": {
        "id": "ywTR3wvYMXxW",
        "colab": {
          "base_uri": "https://localhost:8080/"
        },
        "outputId": "4ad081e2-1e57-4a6e-96fb-79f85b2403be"
      },
      "source": [
        "print(\"Hello World\")"
      ],
      "execution_count": 1,
      "outputs": [
        {
          "output_type": "stream",
          "name": "stdout",
          "text": [
            "Hello World\n"
          ]
        }
      ]
    },
    {
      "cell_type": "markdown",
      "metadata": {
        "id": "cjQSaLTVMXxY"
      },
      "source": [
        "O que fizemos foi simplesmente executar uma **função**, que já faz todo o \"trabalho sujo\" para nós. Esta função, que se chama `print`, recebe um texto como **argumento**, entre parênteses, e o imprime no console. No caso, o texto que passamos é `\"Hello World\"`. As aspas envolvendo o texto servem para dizer ao interpretador que estamos construindo uma *string* (o tipo de dado que usamos para representar texto)."
      ]
    },
    {
      "cell_type": "markdown",
      "metadata": {
        "id": "OvfHp_vDMXxY"
      },
      "source": [
        "Por enquanto vamos focar no uso mais básico do interpretador *Python*, operando valores numéricos apenas.\n",
        "Nesta aula vamos aprender a usar o interpretador como uma calculadora um pouco mais elaborada. \n",
        "No fim você codificará um modelo de crescimento exponencial para estimar o tamanho populacional em uma cultura bacteriana."
      ]
    },
    {
      "cell_type": "markdown",
      "metadata": {
        "id": "3AiRLh2eMXxZ"
      },
      "source": [
        "### Objetivos. \n",
        "Após esta aula você deverá ser capaz de: \n",
        "\n",
        "* Reconhecer os principais **operadores numéricos**;\n",
        "* Construir e computar **expressões** matemáticas;\n",
        "* Armazenar e consultar resultados de computações em **variáveis**."
      ]
    },
    {
      "cell_type": "markdown",
      "metadata": {
        "id": "RKV2fo3-MXxZ"
      },
      "source": [
        "## 1. Tipos"
      ]
    },
    {
      "cell_type": "markdown",
      "metadata": {
        "id": "xANyo7TKMXxZ"
      },
      "source": [
        "**Tipos** são abstrações fundamentais nas linguagens de programação que nos permitem representar elementos de informação. Cada linguagem possui um conjunto de *tipos primitivos* (ou fundamentais), a partir dos quais o programador pode construir *tipos compostos*.\n",
        "Por enquanto vamos conhecer alguns dos tipos primitivos, que já vêm definidos na linguagem *Python*:\n",
        "\n",
        "* Tipos **numéricos**:\n",
        " * **Integer** (inteiros): Permite representar números inteiros, por exemplo `4`.\n",
        " * **Float** (ponto flutuante): Permite representar números com parte fracionária, por exemplo `42.5`.\n",
        "\n",
        "* **String**: Permite representar informação na forma de texto, por exemplo `\"Palavra\"` ou `\"C\"`. Usamos aspas (duplas ou simples) para representar informação textual. Em muitas outras linguagens de programação existe também o tipo caractere (ou char). Porém, em *Python* um caractere é uma string de comprimento 1.\n",
        "\n",
        "* **Boolean**: Representa informação em lógica binária, `True` ou `False`. "
      ]
    },
    {
      "cell_type": "code",
      "metadata": {
        "id": "K3Sh2JH9MXxa",
        "outputId": "1af58bc2-6843-475f-8137-d2817bd62e7a",
        "colab": {
          "base_uri": "https://localhost:8080/"
        }
      },
      "source": [
        "print(42, type(42))\n",
        "print(42.5, type(42.5))\n",
        "print(\"Palavra\", type(\"Palavra\"))\n",
        "print('C', type('C'))\n",
        "print(True, type(True))\n",
        "print(False, type(False))"
      ],
      "execution_count": 2,
      "outputs": [
        {
          "output_type": "stream",
          "name": "stdout",
          "text": [
            "42 <class 'int'>\n",
            "42.5 <class 'float'>\n",
            "Palavra <class 'str'>\n",
            "C <class 'str'>\n",
            "True <class 'bool'>\n",
            "False <class 'bool'>\n"
          ]
        }
      ]
    },
    {
      "cell_type": "markdown",
      "metadata": {
        "id": "lgAEVuz2MXxb"
      },
      "source": [
        "Veja os [tipos nativos](https://docs.python.org/3/library/stdtypes.html#built-in-types) da linguagem *Python*."
      ]
    },
    {
      "cell_type": "markdown",
      "metadata": {
        "id": "0MvSjNOzMXxb"
      },
      "source": [
        "## 2. Operadores e expressões"
      ]
    },
    {
      "cell_type": "markdown",
      "metadata": {
        "id": "1_InRVApMXxb"
      },
      "source": [
        "**Operadores** são os símbolos que especificam as computações mais fundamentais, como por exemplo soma, subtração, multiplicação e divisão. Sempre que aplicamos um operador sobre dois operandos, esperamos obter algum resultado imediatamente. Podemos combinar vários operadores e operandos, construindo assim **expressões**. Veja na tabela abaixo os principais operadores numéricos da linguagem *Python*."
      ]
    },
    {
      "cell_type": "markdown",
      "metadata": {
        "id": "oT91lXEfMXxc"
      },
      "source": [
        "| Operação| Operador| Exemplo | Resultado\n",
        "|:-|---|-:|--|\n",
        "| Soma      | `+` | `9 + 7` | `16` |\n",
        "| Subtração | `-` | `9 - 7` | `2` |\n",
        "| Multiplicação | `*` | `9 * 7` | `63` |\n",
        "| Divisão | `/` | `5 / 2`| `2.5` | \n",
        "| Exponenciação | `**` | `9**2` | `81` |\n",
        "| Módulo | `%` | `9 % 2` | `1` |\n",
        "\n"
      ]
    },
    {
      "cell_type": "markdown",
      "metadata": {
        "id": "p12s9HwDMXxc"
      },
      "source": [
        "Experimente operar alguns números na célula abaixo"
      ]
    },
    {
      "cell_type": "code",
      "metadata": {
        "id": "21HYHDaDMXxd",
        "outputId": "033ac7b9-e2d8-448f-d16e-33ce2aedf06b",
        "colab": {
          "base_uri": "https://localhost:8080/"
        }
      },
      "source": [
        "42 + 7"
      ],
      "execution_count": 3,
      "outputs": [
        {
          "output_type": "execute_result",
          "data": {
            "text/plain": [
              "49"
            ]
          },
          "metadata": {},
          "execution_count": 3
        }
      ]
    },
    {
      "cell_type": "code",
      "metadata": {
        "id": "3ILeP65kMXxd",
        "outputId": "84150caa-bcd0-4bdb-b2f0-c5ad33e71264",
        "colab": {
          "base_uri": "https://localhost:8080/"
        }
      },
      "source": [
        "42 - 7"
      ],
      "execution_count": 4,
      "outputs": [
        {
          "output_type": "execute_result",
          "data": {
            "text/plain": [
              "35"
            ]
          },
          "metadata": {},
          "execution_count": 4
        }
      ]
    },
    {
      "cell_type": "code",
      "metadata": {
        "id": "jUmatEb2MXxd",
        "outputId": "422037d9-64dd-4046-c77c-d79301db6ad9",
        "colab": {
          "base_uri": "https://localhost:8080/"
        }
      },
      "source": [
        "2**8"
      ],
      "execution_count": 5,
      "outputs": [
        {
          "output_type": "execute_result",
          "data": {
            "text/plain": [
              "256"
            ]
          },
          "metadata": {},
          "execution_count": 5
        }
      ]
    },
    {
      "cell_type": "code",
      "metadata": {
        "id": "UyOpRSKgMXxd",
        "outputId": "b1fe76bc-6a1e-46b6-8d1d-d8199534e67a",
        "colab": {
          "base_uri": "https://localhost:8080/"
        }
      },
      "source": [
        "6 % 3"
      ],
      "execution_count": 6,
      "outputs": [
        {
          "output_type": "execute_result",
          "data": {
            "text/plain": [
              "0"
            ]
          },
          "metadata": {},
          "execution_count": 6
        }
      ]
    },
    {
      "cell_type": "code",
      "metadata": {
        "id": "0-ctZsy2MXxe",
        "outputId": "f10f07ca-deff-46c8-ce13-7a4a107c02f0",
        "colab": {
          "base_uri": "https://localhost:8080/"
        }
      },
      "source": [
        "3 % 2"
      ],
      "execution_count": 7,
      "outputs": [
        {
          "output_type": "execute_result",
          "data": {
            "text/plain": [
              "1"
            ]
          },
          "metadata": {},
          "execution_count": 7
        }
      ]
    },
    {
      "cell_type": "code",
      "metadata": {
        "id": "dIaY6FB0MXxe",
        "outputId": "25b46355-517f-4b36-8752-3ec380723173",
        "colab": {
          "base_uri": "https://localhost:8080/"
        }
      },
      "source": [
        "3 % 5"
      ],
      "execution_count": 8,
      "outputs": [
        {
          "output_type": "execute_result",
          "data": {
            "text/plain": [
              "3"
            ]
          },
          "metadata": {},
          "execution_count": 8
        }
      ]
    },
    {
      "cell_type": "markdown",
      "metadata": {
        "id": "6XkfIdMXMXxe"
      },
      "source": [
        "Você também pode criar expressões combinando valores e operadores!"
      ]
    },
    {
      "cell_type": "code",
      "metadata": {
        "id": "grzdqhRwMXxe",
        "outputId": "431e15fa-d3e6-478a-aee7-7780d9b80575",
        "colab": {
          "base_uri": "https://localhost:8080/"
        }
      },
      "source": [
        "42 + 7 - 3/10"
      ],
      "execution_count": 9,
      "outputs": [
        {
          "output_type": "execute_result",
          "data": {
            "text/plain": [
              "48.7"
            ]
          },
          "metadata": {},
          "execution_count": 9
        }
      ]
    },
    {
      "cell_type": "code",
      "metadata": {
        "id": "WH9QpdoSMXxf",
        "outputId": "d73b8d70-bd52-4baf-fb77-79b390174b4f",
        "colab": {
          "base_uri": "https://localhost:8080/"
        }
      },
      "source": [
        "3*2 - 4%2"
      ],
      "execution_count": 10,
      "outputs": [
        {
          "output_type": "execute_result",
          "data": {
            "text/plain": [
              "6"
            ]
          },
          "metadata": {},
          "execution_count": 10
        }
      ]
    },
    {
      "cell_type": "markdown",
      "metadata": {
        "id": "VXik_duDMXxf"
      },
      "source": [
        "<b style=\"color:red\">Cuidado!</b> A ordem de avaliação dos elementos em uma expressão segue a mesma convenção de precedência utilizada na matemática. Elementos entre parênteses têm prioridade durante a avaliação."
      ]
    },
    {
      "cell_type": "markdown",
      "metadata": {
        "id": "gq-elNAaMXxf"
      },
      "source": [
        "Na célula abaixo, represente a seguinte expressão em código e obtenha seu resultado: "
      ]
    },
    {
      "cell_type": "markdown",
      "metadata": {
        "id": "u-xMyPKiMXxf"
      },
      "source": [
        "$$ \\frac{3+(3\\times5)}{2\\times(2+3)} $$"
      ]
    },
    {
      "cell_type": "code",
      "metadata": {
        "id": "pgADkAOVMXxf",
        "outputId": "2c8b2346-40c2-463e-86dc-b9c490570ac2",
        "colab": {
          "base_uri": "https://localhost:8080/"
        }
      },
      "source": [
        "(3+(3*5))/(2*(2+3))"
      ],
      "execution_count": 11,
      "outputs": [
        {
          "output_type": "execute_result",
          "data": {
            "text/plain": [
              "1.8"
            ]
          },
          "metadata": {},
          "execution_count": 11
        }
      ]
    },
    {
      "cell_type": "markdown",
      "metadata": {
        "id": "KrRt4VR4MXxg"
      },
      "source": [
        "> **Comentários**: Está vendo este `#` na primeira linha da célula acima? Linhas de código precedidas por este símbolo são comentários, que funcionam como mensagens a quem está lendo seu código, normalmente outros programadores. \n",
        "Qualquer coisa escrita na mesma linha **à direita** do símbolo é simplesmente ignorada pelo interpretador, ou seja, **não é executada**. \n",
        "É comum utilizar comentários para documentar partes de um código, ou marcar regiões que devem ser trabalhadas futuramente. "
      ]
    },
    {
      "cell_type": "markdown",
      "metadata": {
        "id": "Z3gJAdqdMXxg"
      },
      "source": [
        "## 3. Variáveis"
      ]
    },
    {
      "cell_type": "markdown",
      "metadata": {
        "id": "ZDXvMjZ7MXxg"
      },
      "source": [
        "Quando estamos programando, frequentemente precisamos armazenar valores obtidos em etapas anteriores em memória.\n",
        "Assim, podemos re-utilizar estes valores sem precisar repetir todo o código.\n",
        "Linguagens de programação oferecem uma maneira bastante intuitiva para isso, por meio de **variáveis**.\n",
        "O símbolo que usamos para **atribuir** valores a variáveis é o sinal de igual (`=`). Na linguagem *Python*, uma variável é criada assim que atribuimos algum valor a ela.\n",
        "\n",
        "**obs:** O nome da variável sempre deve ser escrito à esquerda do símbolo `=`, e o valor a ser atribuído à variável, à direita."
      ]
    },
    {
      "cell_type": "markdown",
      "metadata": {
        "id": "1274MgVlMXxg"
      },
      "source": [
        "Por exemplo, podemos criar uma variável chamada `idade`, para armazenar sua idade. Assim, sempre que quisermos saber o valor atribuído a esta variável, basta escrever seu nome em uma célula e executá-la!"
      ]
    },
    {
      "cell_type": "code",
      "metadata": {
        "id": "bdkM6X3lMXxg"
      },
      "source": [
        "idade = 29"
      ],
      "execution_count": 12,
      "outputs": []
    },
    {
      "cell_type": "code",
      "metadata": {
        "id": "p55FinQ5MXxh",
        "outputId": "c86ef519-194e-4a0a-8b92-7cbee640937a",
        "colab": {
          "base_uri": "https://localhost:8080/"
        }
      },
      "source": [
        "idade"
      ],
      "execution_count": 13,
      "outputs": [
        {
          "output_type": "execute_result",
          "data": {
            "text/plain": [
              "29"
            ]
          },
          "metadata": {},
          "execution_count": 13
        }
      ]
    },
    {
      "cell_type": "markdown",
      "metadata": {
        "id": "c0oEuhnBMXxh"
      },
      "source": [
        "Declare uma variável chamada `semestre` que armazene o valor numérico do semestre que está cursando atualmente.\n",
        "Em seguida, escreva o nome da variável para obter seu valor. "
      ]
    },
    {
      "cell_type": "code",
      "metadata": {
        "id": "Nl_VewdbMXxh"
      },
      "source": [
        "semestre = 8"
      ],
      "execution_count": 14,
      "outputs": []
    },
    {
      "cell_type": "code",
      "metadata": {
        "id": "S_4yp8vdMXxh",
        "colab": {
          "base_uri": "https://localhost:8080/"
        },
        "outputId": "c650919a-807c-477a-a12f-683f0b13581b"
      },
      "source": [
        "semestre"
      ],
      "execution_count": 15,
      "outputs": [
        {
          "output_type": "execute_result",
          "data": {
            "text/plain": [
              "8"
            ]
          },
          "metadata": {},
          "execution_count": 15
        }
      ]
    },
    {
      "cell_type": "markdown",
      "metadata": {
        "id": "V-d24AArMXxh"
      },
      "source": [
        "Quando lidamos com expressões grandes e complexas pode ser interessante quebrá-las em várias sub-expressões. Veja o seguinte exemplo:"
      ]
    },
    {
      "cell_type": "markdown",
      "metadata": {
        "id": "vIOrXPzhMXxi"
      },
      "source": [
        "$$ 2 \\bigg[ \\frac{3\\times(2+5)-20}{3} \\bigg]^2 + \\sqrt 2 + 1  $$"
      ]
    },
    {
      "cell_type": "markdown",
      "metadata": {
        "id": "LsNWj74-MXxi"
      },
      "source": [
        "Para facilitar a codificação desta expressão, vamos escrevê-la nas seguintes etapas:\n",
        "\n",
        "1. Atribua o resultado de $\\frac{3\\times(2+5)-20}{3}$ a uma variável de nome `a`.\n",
        "2. Atribua o resultado de $\\sqrt{2}+1$ a uma variável de nome `b`. Lembrando que $\\sqrt{2} = 2^{\\frac{1}{2}}$\n",
        "3. Agora, compute o resultado da expressão inteira usando as variáveis que você acabou de criar. $2a^2 + b$ e atribua o resultado a uma variável de nome `c`.\n",
        "4. Por fim, imprima no console o valor da variável `c`."
      ]
    },
    {
      "cell_type": "code",
      "metadata": {
        "id": "qStR1uqeMXxi",
        "outputId": "a6e123d4-3e44-435a-d32d-d86aa6afadb1",
        "colab": {
          "base_uri": "https://localhost:8080/"
        }
      },
      "source": [
        "a = (3*(2+5)-20)/3\n",
        "b = 2**(1/2) + 1\n",
        "c = 2*a**2 + b\n",
        "\n",
        "c"
      ],
      "execution_count": 16,
      "outputs": [
        {
          "output_type": "execute_result",
          "data": {
            "text/plain": [
              "2.6364357845953172"
            ]
          },
          "metadata": {},
          "execution_count": 16
        }
      ]
    },
    {
      "cell_type": "markdown",
      "metadata": {
        "id": "vF1y3-0CMXxj"
      },
      "source": [
        "---"
      ]
    },
    {
      "cell_type": "code",
      "metadata": {
        "id": "85gYPP6VMXxj",
        "colab": {
          "base_uri": "https://localhost:8080/"
        },
        "outputId": "dd1a3c2b-97d4-48d5-8531-a447369601bb"
      },
      "source": [
        "a = 2*(10+1) + (8/(3+1))\n",
        "print(\"Primeiro valor de a:\",a)\n",
        "a = 5\n",
        "print(\"Segundo valor de a:\",a)"
      ],
      "execution_count": 17,
      "outputs": [
        {
          "output_type": "stream",
          "name": "stdout",
          "text": [
            "Primeiro valor de a: 24.0\n",
            "Segundo valor de a: 5\n"
          ]
        }
      ]
    },
    {
      "cell_type": "markdown",
      "metadata": {
        "id": "KxoGk34bMXxk"
      },
      "source": [
        "**Ex 2.** Veja na célula abaixo a codificação da expressão $\\sqrt{\\frac{3(3+5)}{5+1}}$. Execute a célula e observe o resultado. O valor está correto? Caso não esteja, como corrigir a expressão?"
      ]
    },
    {
      "cell_type": "code",
      "metadata": {
        "id": "PM670y9tMXxk",
        "outputId": "d91ce45f-18fc-4cbb-b188-b6d1fa1da695",
        "colab": {
          "base_uri": "https://localhost:8080/"
        }
      },
      "source": [
        "( 3*(3+5) / (5+1) )**(1/2)"
      ],
      "execution_count": 18,
      "outputs": [
        {
          "output_type": "execute_result",
          "data": {
            "text/plain": [
              "2.0"
            ]
          },
          "metadata": {},
          "execution_count": 18
        }
      ]
    }
  ]
}